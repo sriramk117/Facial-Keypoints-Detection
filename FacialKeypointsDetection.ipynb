{
  "nbformat": 4,
  "nbformat_minor": 0,
  "metadata": {
    "colab": {
      "provenance": [],
      "include_colab_link": true
    },
    "kernelspec": {
      "name": "python3",
      "display_name": "Python 3"
    },
    "language_info": {
      "name": "python"
    }
  },
  "cells": [
    {
      "cell_type": "markdown",
      "metadata": {
        "id": "view-in-github",
        "colab_type": "text"
      },
      "source": [
        "<a href=\"https://colab.research.google.com/github/sriramk117/Facial-Keypoints-Detection/blob/main/FacialKeypointsDetection.ipynb\" target=\"_parent\"><img src=\"https://colab.research.google.com/assets/colab-badge.svg\" alt=\"Open In Colab\"/></a>"
      ]
    },
    {
      "cell_type": "code",
      "execution_count": null,
      "metadata": {
        "id": "EXBtJVmGUFCU"
      },
      "outputs": [],
      "source": [
        "import numpy as np\n",
        "import matplotlib.pyplot as plt\n",
        "import pandas as pd\n",
        "from IPython.display import clear_output\n",
        "from time import sleep\n",
        "import os"
      ]
    },
    {
      "cell_type": "markdown",
      "source": [
        "Read input (train & test) files"
      ],
      "metadata": {
        "id": "J22Be4NDXB6z"
      }
    },
    {
      "cell_type": "code",
      "source": [
        "train = pd.read_csv('/content/training.zip', compression='zip')\n",
        "test = pd.read_csv('/content/test.zip', compression='zip')\n",
        "idLookUpTable = pd.read_csv('/content/IdLookupTable.csv')"
      ],
      "metadata": {
        "id": "j-ByPmt3UTUu"
      },
      "execution_count": null,
      "outputs": []
    },
    {
      "cell_type": "code",
      "source": [
        "train.head().T\n"
      ],
      "metadata": {
        "id": "djz8tXJda3xN",
        "colab": {
          "base_uri": "https://localhost:8080/",
          "height": 1000
        },
        "outputId": "9cedf688-5191-4aba-8d4f-85294f85bb80"
      },
      "execution_count": null,
      "outputs": [
        {
          "output_type": "execute_result",
          "data": {
            "text/plain": [
              "                                                                           0  \\\n",
              "left_eye_center_x                                                  66.033564   \n",
              "left_eye_center_y                                                  39.002274   \n",
              "right_eye_center_x                                                 30.227008   \n",
              "right_eye_center_y                                                 36.421678   \n",
              "left_eye_inner_corner_x                                            59.582075   \n",
              "left_eye_inner_corner_y                                            39.647423   \n",
              "left_eye_outer_corner_x                                            73.130346   \n",
              "left_eye_outer_corner_y                                            39.969997   \n",
              "right_eye_inner_corner_x                                           36.356571   \n",
              "right_eye_inner_corner_y                                           37.389402   \n",
              "right_eye_outer_corner_x                                           23.452872   \n",
              "right_eye_outer_corner_y                                           37.389402   \n",
              "left_eyebrow_inner_end_x                                           56.953263   \n",
              "left_eyebrow_inner_end_y                                           29.033648   \n",
              "left_eyebrow_outer_end_x                                           80.227128   \n",
              "left_eyebrow_outer_end_y                                           32.228138   \n",
              "right_eyebrow_inner_end_x                                          40.227609   \n",
              "right_eyebrow_inner_end_y                                          29.002322   \n",
              "right_eyebrow_outer_end_x                                          16.356379   \n",
              "right_eyebrow_outer_end_y                                          29.647471   \n",
              "nose_tip_x                                                         44.420571   \n",
              "nose_tip_y                                                         57.066803   \n",
              "mouth_left_corner_x                                                61.195308   \n",
              "mouth_left_corner_y                                                79.970165   \n",
              "mouth_right_corner_x                                               28.614496   \n",
              "mouth_right_corner_y                                               77.388992   \n",
              "mouth_center_top_lip_x                                             43.312602   \n",
              "mouth_center_top_lip_y                                             72.935459   \n",
              "mouth_center_bottom_lip_x                                          43.130707   \n",
              "mouth_center_bottom_lip_y                                          84.485774   \n",
              "Image                      238 236 237 238 240 240 239 241 241 243 240 23...   \n",
              "\n",
              "                                                                           1  \\\n",
              "left_eye_center_x                                                  64.332936   \n",
              "left_eye_center_y                                                  34.970077   \n",
              "right_eye_center_x                                                 29.949277   \n",
              "right_eye_center_y                                                 33.448715   \n",
              "left_eye_inner_corner_x                                             58.85617   \n",
              "left_eye_inner_corner_y                                            35.274349   \n",
              "left_eye_outer_corner_x                                            70.722723   \n",
              "left_eye_outer_corner_y                                            36.187166   \n",
              "right_eye_inner_corner_x                                           36.034723   \n",
              "right_eye_inner_corner_y                                           34.361532   \n",
              "right_eye_outer_corner_x                                           24.472511   \n",
              "right_eye_outer_corner_y                                           33.144443   \n",
              "left_eyebrow_inner_end_x                                           53.987404   \n",
              "left_eyebrow_inner_end_y                                           28.275949   \n",
              "left_eyebrow_outer_end_x                                           78.634213   \n",
              "left_eyebrow_outer_end_y                                           30.405923   \n",
              "right_eyebrow_inner_end_x                                          42.728851   \n",
              "right_eyebrow_inner_end_y                                          26.146043   \n",
              "right_eyebrow_outer_end_x                                          16.865362   \n",
              "right_eyebrow_outer_end_y                                           27.05886   \n",
              "nose_tip_x                                                         48.206298   \n",
              "nose_tip_y                                                         55.660936   \n",
              "mouth_left_corner_x                                                56.421447   \n",
              "mouth_left_corner_y                                                   76.352   \n",
              "mouth_right_corner_x                                               35.122383   \n",
              "mouth_right_corner_y                                                76.04766   \n",
              "mouth_center_top_lip_x                                             46.684596   \n",
              "mouth_center_top_lip_y                                             70.266553   \n",
              "mouth_center_bottom_lip_x                                          45.467915   \n",
              "mouth_center_bottom_lip_y                                           85.48017   \n",
              "Image                      219 215 204 196 204 211 212 200 180 168 178 19...   \n",
              "\n",
              "                                                                           2  \\\n",
              "left_eye_center_x                                                  65.057053   \n",
              "left_eye_center_y                                                  34.909642   \n",
              "right_eye_center_x                                                 30.903789   \n",
              "right_eye_center_y                                                 34.909642   \n",
              "left_eye_inner_corner_x                                               59.412   \n",
              "left_eye_inner_corner_y                                            36.320968   \n",
              "left_eye_outer_corner_x                                            70.984421   \n",
              "left_eye_outer_corner_y                                            36.320968   \n",
              "right_eye_inner_corner_x                                           37.678105   \n",
              "right_eye_inner_corner_y                                           36.320968   \n",
              "right_eye_outer_corner_x                                           24.976421   \n",
              "right_eye_outer_corner_y                                           36.603221   \n",
              "left_eyebrow_inner_end_x                                           55.742526   \n",
              "left_eyebrow_inner_end_y                                           27.570947   \n",
              "left_eyebrow_outer_end_x                                           78.887368   \n",
              "left_eyebrow_outer_end_y                                           32.651621   \n",
              "right_eyebrow_inner_end_x                                          42.193895   \n",
              "right_eyebrow_inner_end_y                                          28.135453   \n",
              "right_eyebrow_outer_end_x                                          16.791158   \n",
              "right_eyebrow_outer_end_y                                          32.087116   \n",
              "nose_tip_x                                                         47.557263   \n",
              "nose_tip_y                                                         53.538947   \n",
              "mouth_left_corner_x                                                60.822947   \n",
              "mouth_left_corner_y                                                73.014316   \n",
              "mouth_right_corner_x                                               33.726316   \n",
              "mouth_right_corner_y                                                  72.732   \n",
              "mouth_center_top_lip_x                                             47.274947   \n",
              "mouth_center_top_lip_y                                             70.191789   \n",
              "mouth_center_bottom_lip_x                                          47.274947   \n",
              "mouth_center_bottom_lip_y                                          78.659368   \n",
              "Image                      144 142 159 180 188 188 184 180 167 132 84 59 ...   \n",
              "\n",
              "                                                                           3  \\\n",
              "left_eye_center_x                                                  65.225739   \n",
              "left_eye_center_y                                                  37.261774   \n",
              "right_eye_center_x                                                 32.023096   \n",
              "right_eye_center_y                                                 37.261774   \n",
              "left_eye_inner_corner_x                                            60.003339   \n",
              "left_eye_inner_corner_y                                            39.127179   \n",
              "left_eye_outer_corner_x                                            72.314713   \n",
              "left_eye_outer_corner_y                                            38.380967   \n",
              "right_eye_inner_corner_x                                           37.618643   \n",
              "right_eye_inner_corner_y                                           38.754115   \n",
              "right_eye_outer_corner_x                                            25.30727   \n",
              "right_eye_outer_corner_y                                           38.007903   \n",
              "left_eyebrow_inner_end_x                                           56.433809   \n",
              "left_eyebrow_inner_end_y                                           30.929864   \n",
              "left_eyebrow_outer_end_x                                           77.910261   \n",
              "left_eyebrow_outer_end_y                                           31.665725   \n",
              "right_eyebrow_inner_end_x                                          41.671513   \n",
              "right_eyebrow_inner_end_y                                           31.04999   \n",
              "right_eyebrow_outer_end_x                                          20.458017   \n",
              "right_eyebrow_outer_end_y                                          29.909343   \n",
              "nose_tip_x                                                         51.885078   \n",
              "nose_tip_y                                                         54.166539   \n",
              "mouth_left_corner_x                                                65.598887   \n",
              "mouth_left_corner_y                                                72.703722   \n",
              "mouth_right_corner_x                                               37.245496   \n",
              "mouth_right_corner_y                                               74.195478   \n",
              "mouth_center_top_lip_x                                             50.303165   \n",
              "mouth_center_top_lip_y                                             70.091687   \n",
              "mouth_center_bottom_lip_x                                          51.561183   \n",
              "mouth_center_bottom_lip_y                                          78.268383   \n",
              "Image                      193 192 193 194 194 194 193 192 168 111 50 12 ...   \n",
              "\n",
              "                                                                           4  \n",
              "left_eye_center_x                                                  66.725301  \n",
              "left_eye_center_y                                                  39.621261  \n",
              "right_eye_center_x                                                  32.24481  \n",
              "right_eye_center_y                                                 38.042032  \n",
              "left_eye_inner_corner_x                                             58.56589  \n",
              "left_eye_inner_corner_y                                            39.621261  \n",
              "left_eye_outer_corner_x                                            72.515926  \n",
              "left_eye_outer_corner_y                                            39.884466  \n",
              "right_eye_inner_corner_x                                            36.98238  \n",
              "right_eye_inner_corner_y                                           39.094852  \n",
              "right_eye_outer_corner_x                                            22.50611  \n",
              "right_eye_outer_corner_y                                           38.305237  \n",
              "left_eyebrow_inner_end_x                                           57.249571  \n",
              "left_eyebrow_inner_end_y                                           30.672177  \n",
              "left_eyebrow_outer_end_x                                           77.762945  \n",
              "left_eyebrow_outer_end_y                                           31.737247  \n",
              "right_eyebrow_inner_end_x                                          38.035436  \n",
              "right_eyebrow_inner_end_y                                          30.935382  \n",
              "right_eyebrow_outer_end_x                                           15.92587  \n",
              "right_eyebrow_outer_end_y                                          30.672177  \n",
              "nose_tip_x                                                         43.299534  \n",
              "nose_tip_y                                                         64.889521  \n",
              "mouth_left_corner_x                                                60.671411  \n",
              "mouth_left_corner_y                                                77.523239  \n",
              "mouth_right_corner_x                                               31.191755  \n",
              "mouth_right_corner_y                                               76.997301  \n",
              "mouth_center_top_lip_x                                             44.962748  \n",
              "mouth_center_top_lip_y                                             73.707387  \n",
              "mouth_center_bottom_lip_x                                          44.227141  \n",
              "mouth_center_bottom_lip_y                                          86.871166  \n",
              "Image                      147 148 160 196 215 214 216 217 219 220 206 18...  "
            ],
            "text/html": [
              "\n",
              "  <div id=\"df-5e622d65-1cab-457a-b123-42b108e02300\" class=\"colab-df-container\">\n",
              "    <div>\n",
              "<style scoped>\n",
              "    .dataframe tbody tr th:only-of-type {\n",
              "        vertical-align: middle;\n",
              "    }\n",
              "\n",
              "    .dataframe tbody tr th {\n",
              "        vertical-align: top;\n",
              "    }\n",
              "\n",
              "    .dataframe thead th {\n",
              "        text-align: right;\n",
              "    }\n",
              "</style>\n",
              "<table border=\"1\" class=\"dataframe\">\n",
              "  <thead>\n",
              "    <tr style=\"text-align: right;\">\n",
              "      <th></th>\n",
              "      <th>0</th>\n",
              "      <th>1</th>\n",
              "      <th>2</th>\n",
              "      <th>3</th>\n",
              "      <th>4</th>\n",
              "    </tr>\n",
              "  </thead>\n",
              "  <tbody>\n",
              "    <tr>\n",
              "      <th>left_eye_center_x</th>\n",
              "      <td>66.033564</td>\n",
              "      <td>64.332936</td>\n",
              "      <td>65.057053</td>\n",
              "      <td>65.225739</td>\n",
              "      <td>66.725301</td>\n",
              "    </tr>\n",
              "    <tr>\n",
              "      <th>left_eye_center_y</th>\n",
              "      <td>39.002274</td>\n",
              "      <td>34.970077</td>\n",
              "      <td>34.909642</td>\n",
              "      <td>37.261774</td>\n",
              "      <td>39.621261</td>\n",
              "    </tr>\n",
              "    <tr>\n",
              "      <th>right_eye_center_x</th>\n",
              "      <td>30.227008</td>\n",
              "      <td>29.949277</td>\n",
              "      <td>30.903789</td>\n",
              "      <td>32.023096</td>\n",
              "      <td>32.24481</td>\n",
              "    </tr>\n",
              "    <tr>\n",
              "      <th>right_eye_center_y</th>\n",
              "      <td>36.421678</td>\n",
              "      <td>33.448715</td>\n",
              "      <td>34.909642</td>\n",
              "      <td>37.261774</td>\n",
              "      <td>38.042032</td>\n",
              "    </tr>\n",
              "    <tr>\n",
              "      <th>left_eye_inner_corner_x</th>\n",
              "      <td>59.582075</td>\n",
              "      <td>58.85617</td>\n",
              "      <td>59.412</td>\n",
              "      <td>60.003339</td>\n",
              "      <td>58.56589</td>\n",
              "    </tr>\n",
              "    <tr>\n",
              "      <th>left_eye_inner_corner_y</th>\n",
              "      <td>39.647423</td>\n",
              "      <td>35.274349</td>\n",
              "      <td>36.320968</td>\n",
              "      <td>39.127179</td>\n",
              "      <td>39.621261</td>\n",
              "    </tr>\n",
              "    <tr>\n",
              "      <th>left_eye_outer_corner_x</th>\n",
              "      <td>73.130346</td>\n",
              "      <td>70.722723</td>\n",
              "      <td>70.984421</td>\n",
              "      <td>72.314713</td>\n",
              "      <td>72.515926</td>\n",
              "    </tr>\n",
              "    <tr>\n",
              "      <th>left_eye_outer_corner_y</th>\n",
              "      <td>39.969997</td>\n",
              "      <td>36.187166</td>\n",
              "      <td>36.320968</td>\n",
              "      <td>38.380967</td>\n",
              "      <td>39.884466</td>\n",
              "    </tr>\n",
              "    <tr>\n",
              "      <th>right_eye_inner_corner_x</th>\n",
              "      <td>36.356571</td>\n",
              "      <td>36.034723</td>\n",
              "      <td>37.678105</td>\n",
              "      <td>37.618643</td>\n",
              "      <td>36.98238</td>\n",
              "    </tr>\n",
              "    <tr>\n",
              "      <th>right_eye_inner_corner_y</th>\n",
              "      <td>37.389402</td>\n",
              "      <td>34.361532</td>\n",
              "      <td>36.320968</td>\n",
              "      <td>38.754115</td>\n",
              "      <td>39.094852</td>\n",
              "    </tr>\n",
              "    <tr>\n",
              "      <th>right_eye_outer_corner_x</th>\n",
              "      <td>23.452872</td>\n",
              "      <td>24.472511</td>\n",
              "      <td>24.976421</td>\n",
              "      <td>25.30727</td>\n",
              "      <td>22.50611</td>\n",
              "    </tr>\n",
              "    <tr>\n",
              "      <th>right_eye_outer_corner_y</th>\n",
              "      <td>37.389402</td>\n",
              "      <td>33.144443</td>\n",
              "      <td>36.603221</td>\n",
              "      <td>38.007903</td>\n",
              "      <td>38.305237</td>\n",
              "    </tr>\n",
              "    <tr>\n",
              "      <th>left_eyebrow_inner_end_x</th>\n",
              "      <td>56.953263</td>\n",
              "      <td>53.987404</td>\n",
              "      <td>55.742526</td>\n",
              "      <td>56.433809</td>\n",
              "      <td>57.249571</td>\n",
              "    </tr>\n",
              "    <tr>\n",
              "      <th>left_eyebrow_inner_end_y</th>\n",
              "      <td>29.033648</td>\n",
              "      <td>28.275949</td>\n",
              "      <td>27.570947</td>\n",
              "      <td>30.929864</td>\n",
              "      <td>30.672177</td>\n",
              "    </tr>\n",
              "    <tr>\n",
              "      <th>left_eyebrow_outer_end_x</th>\n",
              "      <td>80.227128</td>\n",
              "      <td>78.634213</td>\n",
              "      <td>78.887368</td>\n",
              "      <td>77.910261</td>\n",
              "      <td>77.762945</td>\n",
              "    </tr>\n",
              "    <tr>\n",
              "      <th>left_eyebrow_outer_end_y</th>\n",
              "      <td>32.228138</td>\n",
              "      <td>30.405923</td>\n",
              "      <td>32.651621</td>\n",
              "      <td>31.665725</td>\n",
              "      <td>31.737247</td>\n",
              "    </tr>\n",
              "    <tr>\n",
              "      <th>right_eyebrow_inner_end_x</th>\n",
              "      <td>40.227609</td>\n",
              "      <td>42.728851</td>\n",
              "      <td>42.193895</td>\n",
              "      <td>41.671513</td>\n",
              "      <td>38.035436</td>\n",
              "    </tr>\n",
              "    <tr>\n",
              "      <th>right_eyebrow_inner_end_y</th>\n",
              "      <td>29.002322</td>\n",
              "      <td>26.146043</td>\n",
              "      <td>28.135453</td>\n",
              "      <td>31.04999</td>\n",
              "      <td>30.935382</td>\n",
              "    </tr>\n",
              "    <tr>\n",
              "      <th>right_eyebrow_outer_end_x</th>\n",
              "      <td>16.356379</td>\n",
              "      <td>16.865362</td>\n",
              "      <td>16.791158</td>\n",
              "      <td>20.458017</td>\n",
              "      <td>15.92587</td>\n",
              "    </tr>\n",
              "    <tr>\n",
              "      <th>right_eyebrow_outer_end_y</th>\n",
              "      <td>29.647471</td>\n",
              "      <td>27.05886</td>\n",
              "      <td>32.087116</td>\n",
              "      <td>29.909343</td>\n",
              "      <td>30.672177</td>\n",
              "    </tr>\n",
              "    <tr>\n",
              "      <th>nose_tip_x</th>\n",
              "      <td>44.420571</td>\n",
              "      <td>48.206298</td>\n",
              "      <td>47.557263</td>\n",
              "      <td>51.885078</td>\n",
              "      <td>43.299534</td>\n",
              "    </tr>\n",
              "    <tr>\n",
              "      <th>nose_tip_y</th>\n",
              "      <td>57.066803</td>\n",
              "      <td>55.660936</td>\n",
              "      <td>53.538947</td>\n",
              "      <td>54.166539</td>\n",
              "      <td>64.889521</td>\n",
              "    </tr>\n",
              "    <tr>\n",
              "      <th>mouth_left_corner_x</th>\n",
              "      <td>61.195308</td>\n",
              "      <td>56.421447</td>\n",
              "      <td>60.822947</td>\n",
              "      <td>65.598887</td>\n",
              "      <td>60.671411</td>\n",
              "    </tr>\n",
              "    <tr>\n",
              "      <th>mouth_left_corner_y</th>\n",
              "      <td>79.970165</td>\n",
              "      <td>76.352</td>\n",
              "      <td>73.014316</td>\n",
              "      <td>72.703722</td>\n",
              "      <td>77.523239</td>\n",
              "    </tr>\n",
              "    <tr>\n",
              "      <th>mouth_right_corner_x</th>\n",
              "      <td>28.614496</td>\n",
              "      <td>35.122383</td>\n",
              "      <td>33.726316</td>\n",
              "      <td>37.245496</td>\n",
              "      <td>31.191755</td>\n",
              "    </tr>\n",
              "    <tr>\n",
              "      <th>mouth_right_corner_y</th>\n",
              "      <td>77.388992</td>\n",
              "      <td>76.04766</td>\n",
              "      <td>72.732</td>\n",
              "      <td>74.195478</td>\n",
              "      <td>76.997301</td>\n",
              "    </tr>\n",
              "    <tr>\n",
              "      <th>mouth_center_top_lip_x</th>\n",
              "      <td>43.312602</td>\n",
              "      <td>46.684596</td>\n",
              "      <td>47.274947</td>\n",
              "      <td>50.303165</td>\n",
              "      <td>44.962748</td>\n",
              "    </tr>\n",
              "    <tr>\n",
              "      <th>mouth_center_top_lip_y</th>\n",
              "      <td>72.935459</td>\n",
              "      <td>70.266553</td>\n",
              "      <td>70.191789</td>\n",
              "      <td>70.091687</td>\n",
              "      <td>73.707387</td>\n",
              "    </tr>\n",
              "    <tr>\n",
              "      <th>mouth_center_bottom_lip_x</th>\n",
              "      <td>43.130707</td>\n",
              "      <td>45.467915</td>\n",
              "      <td>47.274947</td>\n",
              "      <td>51.561183</td>\n",
              "      <td>44.227141</td>\n",
              "    </tr>\n",
              "    <tr>\n",
              "      <th>mouth_center_bottom_lip_y</th>\n",
              "      <td>84.485774</td>\n",
              "      <td>85.48017</td>\n",
              "      <td>78.659368</td>\n",
              "      <td>78.268383</td>\n",
              "      <td>86.871166</td>\n",
              "    </tr>\n",
              "    <tr>\n",
              "      <th>Image</th>\n",
              "      <td>238 236 237 238 240 240 239 241 241 243 240 23...</td>\n",
              "      <td>219 215 204 196 204 211 212 200 180 168 178 19...</td>\n",
              "      <td>144 142 159 180 188 188 184 180 167 132 84 59 ...</td>\n",
              "      <td>193 192 193 194 194 194 193 192 168 111 50 12 ...</td>\n",
              "      <td>147 148 160 196 215 214 216 217 219 220 206 18...</td>\n",
              "    </tr>\n",
              "  </tbody>\n",
              "</table>\n",
              "</div>\n",
              "    <div class=\"colab-df-buttons\">\n",
              "\n",
              "  <div class=\"colab-df-container\">\n",
              "    <button class=\"colab-df-convert\" onclick=\"convertToInteractive('df-5e622d65-1cab-457a-b123-42b108e02300')\"\n",
              "            title=\"Convert this dataframe to an interactive table.\"\n",
              "            style=\"display:none;\">\n",
              "\n",
              "  <svg xmlns=\"http://www.w3.org/2000/svg\" height=\"24px\" viewBox=\"0 -960 960 960\">\n",
              "    <path d=\"M120-120v-720h720v720H120Zm60-500h600v-160H180v160Zm220 220h160v-160H400v160Zm0 220h160v-160H400v160ZM180-400h160v-160H180v160Zm440 0h160v-160H620v160ZM180-180h160v-160H180v160Zm440 0h160v-160H620v160Z\"/>\n",
              "  </svg>\n",
              "    </button>\n",
              "\n",
              "  <style>\n",
              "    .colab-df-container {\n",
              "      display:flex;\n",
              "      gap: 12px;\n",
              "    }\n",
              "\n",
              "    .colab-df-convert {\n",
              "      background-color: #E8F0FE;\n",
              "      border: none;\n",
              "      border-radius: 50%;\n",
              "      cursor: pointer;\n",
              "      display: none;\n",
              "      fill: #1967D2;\n",
              "      height: 32px;\n",
              "      padding: 0 0 0 0;\n",
              "      width: 32px;\n",
              "    }\n",
              "\n",
              "    .colab-df-convert:hover {\n",
              "      background-color: #E2EBFA;\n",
              "      box-shadow: 0px 1px 2px rgba(60, 64, 67, 0.3), 0px 1px 3px 1px rgba(60, 64, 67, 0.15);\n",
              "      fill: #174EA6;\n",
              "    }\n",
              "\n",
              "    .colab-df-buttons div {\n",
              "      margin-bottom: 4px;\n",
              "    }\n",
              "\n",
              "    [theme=dark] .colab-df-convert {\n",
              "      background-color: #3B4455;\n",
              "      fill: #D2E3FC;\n",
              "    }\n",
              "\n",
              "    [theme=dark] .colab-df-convert:hover {\n",
              "      background-color: #434B5C;\n",
              "      box-shadow: 0px 1px 3px 1px rgba(0, 0, 0, 0.15);\n",
              "      filter: drop-shadow(0px 1px 2px rgba(0, 0, 0, 0.3));\n",
              "      fill: #FFFFFF;\n",
              "    }\n",
              "  </style>\n",
              "\n",
              "    <script>\n",
              "      const buttonEl =\n",
              "        document.querySelector('#df-5e622d65-1cab-457a-b123-42b108e02300 button.colab-df-convert');\n",
              "      buttonEl.style.display =\n",
              "        google.colab.kernel.accessAllowed ? 'block' : 'none';\n",
              "\n",
              "      async function convertToInteractive(key) {\n",
              "        const element = document.querySelector('#df-5e622d65-1cab-457a-b123-42b108e02300');\n",
              "        const dataTable =\n",
              "          await google.colab.kernel.invokeFunction('convertToInteractive',\n",
              "                                                    [key], {});\n",
              "        if (!dataTable) return;\n",
              "\n",
              "        const docLinkHtml = 'Like what you see? Visit the ' +\n",
              "          '<a target=\"_blank\" href=https://colab.research.google.com/notebooks/data_table.ipynb>data table notebook</a>'\n",
              "          + ' to learn more about interactive tables.';\n",
              "        element.innerHTML = '';\n",
              "        dataTable['output_type'] = 'display_data';\n",
              "        await google.colab.output.renderOutput(dataTable, element);\n",
              "        const docLink = document.createElement('div');\n",
              "        docLink.innerHTML = docLinkHtml;\n",
              "        element.appendChild(docLink);\n",
              "      }\n",
              "    </script>\n",
              "  </div>\n",
              "\n",
              "\n",
              "<div id=\"df-0075d295-6d24-4425-9921-cbb0fab13f0a\">\n",
              "  <button class=\"colab-df-quickchart\" onclick=\"quickchart('df-0075d295-6d24-4425-9921-cbb0fab13f0a')\"\n",
              "            title=\"Suggest charts\"\n",
              "            style=\"display:none;\">\n",
              "\n",
              "<svg xmlns=\"http://www.w3.org/2000/svg\" height=\"24px\"viewBox=\"0 0 24 24\"\n",
              "     width=\"24px\">\n",
              "    <g>\n",
              "        <path d=\"M19 3H5c-1.1 0-2 .9-2 2v14c0 1.1.9 2 2 2h14c1.1 0 2-.9 2-2V5c0-1.1-.9-2-2-2zM9 17H7v-7h2v7zm4 0h-2V7h2v10zm4 0h-2v-4h2v4z\"/>\n",
              "    </g>\n",
              "</svg>\n",
              "  </button>\n",
              "\n",
              "<style>\n",
              "  .colab-df-quickchart {\n",
              "      --bg-color: #E8F0FE;\n",
              "      --fill-color: #1967D2;\n",
              "      --hover-bg-color: #E2EBFA;\n",
              "      --hover-fill-color: #174EA6;\n",
              "      --disabled-fill-color: #AAA;\n",
              "      --disabled-bg-color: #DDD;\n",
              "  }\n",
              "\n",
              "  [theme=dark] .colab-df-quickchart {\n",
              "      --bg-color: #3B4455;\n",
              "      --fill-color: #D2E3FC;\n",
              "      --hover-bg-color: #434B5C;\n",
              "      --hover-fill-color: #FFFFFF;\n",
              "      --disabled-bg-color: #3B4455;\n",
              "      --disabled-fill-color: #666;\n",
              "  }\n",
              "\n",
              "  .colab-df-quickchart {\n",
              "    background-color: var(--bg-color);\n",
              "    border: none;\n",
              "    border-radius: 50%;\n",
              "    cursor: pointer;\n",
              "    display: none;\n",
              "    fill: var(--fill-color);\n",
              "    height: 32px;\n",
              "    padding: 0;\n",
              "    width: 32px;\n",
              "  }\n",
              "\n",
              "  .colab-df-quickchart:hover {\n",
              "    background-color: var(--hover-bg-color);\n",
              "    box-shadow: 0 1px 2px rgba(60, 64, 67, 0.3), 0 1px 3px 1px rgba(60, 64, 67, 0.15);\n",
              "    fill: var(--button-hover-fill-color);\n",
              "  }\n",
              "\n",
              "  .colab-df-quickchart-complete:disabled,\n",
              "  .colab-df-quickchart-complete:disabled:hover {\n",
              "    background-color: var(--disabled-bg-color);\n",
              "    fill: var(--disabled-fill-color);\n",
              "    box-shadow: none;\n",
              "  }\n",
              "\n",
              "  .colab-df-spinner {\n",
              "    border: 2px solid var(--fill-color);\n",
              "    border-color: transparent;\n",
              "    border-bottom-color: var(--fill-color);\n",
              "    animation:\n",
              "      spin 1s steps(1) infinite;\n",
              "  }\n",
              "\n",
              "  @keyframes spin {\n",
              "    0% {\n",
              "      border-color: transparent;\n",
              "      border-bottom-color: var(--fill-color);\n",
              "      border-left-color: var(--fill-color);\n",
              "    }\n",
              "    20% {\n",
              "      border-color: transparent;\n",
              "      border-left-color: var(--fill-color);\n",
              "      border-top-color: var(--fill-color);\n",
              "    }\n",
              "    30% {\n",
              "      border-color: transparent;\n",
              "      border-left-color: var(--fill-color);\n",
              "      border-top-color: var(--fill-color);\n",
              "      border-right-color: var(--fill-color);\n",
              "    }\n",
              "    40% {\n",
              "      border-color: transparent;\n",
              "      border-right-color: var(--fill-color);\n",
              "      border-top-color: var(--fill-color);\n",
              "    }\n",
              "    60% {\n",
              "      border-color: transparent;\n",
              "      border-right-color: var(--fill-color);\n",
              "    }\n",
              "    80% {\n",
              "      border-color: transparent;\n",
              "      border-right-color: var(--fill-color);\n",
              "      border-bottom-color: var(--fill-color);\n",
              "    }\n",
              "    90% {\n",
              "      border-color: transparent;\n",
              "      border-bottom-color: var(--fill-color);\n",
              "    }\n",
              "  }\n",
              "</style>\n",
              "\n",
              "  <script>\n",
              "    async function quickchart(key) {\n",
              "      const quickchartButtonEl =\n",
              "        document.querySelector('#' + key + ' button');\n",
              "      quickchartButtonEl.disabled = true;  // To prevent multiple clicks.\n",
              "      quickchartButtonEl.classList.add('colab-df-spinner');\n",
              "      try {\n",
              "        const charts = await google.colab.kernel.invokeFunction(\n",
              "            'suggestCharts', [key], {});\n",
              "      } catch (error) {\n",
              "        console.error('Error during call to suggestCharts:', error);\n",
              "      }\n",
              "      quickchartButtonEl.classList.remove('colab-df-spinner');\n",
              "      quickchartButtonEl.classList.add('colab-df-quickchart-complete');\n",
              "    }\n",
              "    (() => {\n",
              "      let quickchartButtonEl =\n",
              "        document.querySelector('#df-0075d295-6d24-4425-9921-cbb0fab13f0a button');\n",
              "      quickchartButtonEl.style.display =\n",
              "        google.colab.kernel.accessAllowed ? 'block' : 'none';\n",
              "    })();\n",
              "  </script>\n",
              "</div>\n",
              "    </div>\n",
              "  </div>\n"
            ]
          },
          "metadata": {},
          "execution_count": 3
        }
      ]
    },
    {
      "cell_type": "markdown",
      "source": [
        "Data Cleaning: Check for missing values"
      ],
      "metadata": {
        "id": "uBTP9a8ye1DI"
      }
    },
    {
      "cell_type": "code",
      "source": [
        "train.isnull().any().value_counts()"
      ],
      "metadata": {
        "id": "yavp-7I9ewdB",
        "colab": {
          "base_uri": "https://localhost:8080/"
        },
        "outputId": "3b7a5aa7-6001-460f-91cf-f9ef4f5120b8"
      },
      "execution_count": null,
      "outputs": [
        {
          "output_type": "execute_result",
          "data": {
            "text/plain": [
              "True     28\n",
              "False     3\n",
              "dtype: int64"
            ]
          },
          "metadata": {},
          "execution_count": 4
        }
      ]
    },
    {
      "cell_type": "code",
      "source": [
        "train.fillna(method = 'ffill',inplace = True)\n",
        "train.isnull().any().value_counts()"
      ],
      "metadata": {
        "id": "-jCs3sCIffjm",
        "colab": {
          "base_uri": "https://localhost:8080/"
        },
        "outputId": "41c652b6-7733-4074-b23f-1c6d1f53eb52"
      },
      "execution_count": null,
      "outputs": [
        {
          "output_type": "execute_result",
          "data": {
            "text/plain": [
              "False    31\n",
              "dtype: int64"
            ]
          },
          "metadata": {},
          "execution_count": 5
        }
      ]
    },
    {
      "cell_type": "markdown",
      "source": [
        "Convert image strings to np arrays and handle missing values in the strings by replacing them with 0"
      ],
      "metadata": {
        "id": "DDhbZ8ZOW0wr"
      }
    },
    {
      "cell_type": "code",
      "source": [
        "print(train['Image'])"
      ],
      "metadata": {
        "id": "GcJdHr2tS1UP",
        "colab": {
          "base_uri": "https://localhost:8080/"
        },
        "outputId": "3cf5d16e-a9aa-4cb8-a1e1-0b7ddd43ba28"
      },
      "execution_count": null,
      "outputs": [
        {
          "output_type": "stream",
          "name": "stdout",
          "text": [
            "0       238 236 237 238 240 240 239 241 241 243 240 23...\n",
            "1       219 215 204 196 204 211 212 200 180 168 178 19...\n",
            "2       144 142 159 180 188 188 184 180 167 132 84 59 ...\n",
            "3       193 192 193 194 194 194 193 192 168 111 50 12 ...\n",
            "4       147 148 160 196 215 214 216 217 219 220 206 18...\n",
            "                              ...                        \n",
            "7044    71 74 85 105 116 128 139 150 170 187 201 209 2...\n",
            "7045    60 60 62 57 55 51 49 48 50 53 56 56 106 89 77 ...\n",
            "7046    74 74 74 78 79 79 79 81 77 78 80 73 72 81 77 1...\n",
            "7047    254 254 254 254 254 238 193 145 121 118 119 10...\n",
            "7048    53 62 67 76 86 91 97 105 105 106 107 108 112 1...\n",
            "Name: Image, Length: 7049, dtype: object\n"
          ]
        }
      ]
    },
    {
      "cell_type": "code",
      "source": [
        "image_list = []\n",
        "for i in range(0, 7049):\n",
        "  img = train['Image'][i].split(' ')\n",
        "  img = ['0' if x == '' else x for x in img]\n",
        "  image_list.append(img)\n"
      ],
      "metadata": {
        "id": "Q3FXvRsHTH0b"
      },
      "execution_count": null,
      "outputs": []
    },
    {
      "cell_type": "code",
      "source": [
        "image_list = np.array(image_list, dtype = 'float')\n",
        "X_train = image_list.reshape(-1, 96, 96, 1)"
      ],
      "metadata": {
        "id": "_roa7PDyTzNg"
      },
      "execution_count": null,
      "outputs": []
    },
    {
      "cell_type": "code",
      "source": [
        "plt.imshow(X_train[0].reshape(96,96), cmap='gray')\n",
        "plt.show()"
      ],
      "metadata": {
        "id": "PZj1nc_gUWyi",
        "colab": {
          "base_uri": "https://localhost:8080/",
          "height": 433
        },
        "outputId": "186d9d64-ddee-403e-a638-22f96d74ebf6"
      },
      "execution_count": null,
      "outputs": [
        {
          "output_type": "display_data",
          "data": {
            "text/plain": [
              "<Figure size 640x480 with 1 Axes>"
            ],
            "image/png": "[encoded data removed]"
          },
          "metadata": {}
        }
      ]
    },
    {
      "cell_type": "markdown",
      "source": [
        "Separate labels (right eye position, left eye position, etc...) and store in array for training"
      ],
      "metadata": {
        "id": "jurQwIHyXCC_"
      }
    },
    {
      "cell_type": "code",
      "source": [
        "train_labels = train.drop('Image', axis = 1)\n",
        "\n",
        "Y_train = []\n",
        "for i in range(0, 7049):\n",
        "  y = train_labels.iloc[i, :]\n",
        "  Y_train.append(y)\n",
        "\n",
        "Y_train = np.array(Y_train, dtype = 'float')"
      ],
      "metadata": {
        "id": "ZTyXV-O3VJ7X"
      },
      "execution_count": null,
      "outputs": []
    },
    {
      "cell_type": "markdown",
      "source": [
        "Import model training packages"
      ],
      "metadata": {
        "id": "lEqJvBPbWwyu"
      }
    },
    {
      "cell_type": "code",
      "source": [
        "from keras.layers import Conv2D, Dropout, Dense, Flatten\n",
        "from keras.models import Sequential\n",
        "\n",
        "model = Sequential([Flatten(input_shape=(96,96)),\n",
        "                      Dense(128, activation=\"relu\"),\n",
        "                      Dropout(0.1),\n",
        "                      Dense(64, activation=\"relu\"),\n",
        "                      Dense(30)\n",
        "                      ])"
      ],
      "metadata": {
        "id": "mw_pNWaMWvf-"
      },
      "execution_count": null,
      "outputs": []
    },
    {
      "cell_type": "code",
      "source": [
        "from keras.layers import LeakyReLU\n",
        "from keras.models import Sequential, Model\n",
        "from keras.layers import Activation, Convolution2D, MaxPooling2D, BatchNormalization, Flatten, Dense, Dropout, Conv2D,MaxPool2D, ZeroPadding2D"
      ],
      "metadata": {
        "id": "rlKh48MUxSHE"
      },
      "execution_count": null,
      "outputs": []
    },
    {
      "cell_type": "code",
      "source": [
        "model = Sequential()\n",
        "\n",
        "model.add(Convolution2D(32, (3,3), padding='same', use_bias=False, input_shape=(96,96,1)))\n",
        "model.add(LeakyReLU(alpha = 0.1))\n",
        "model.add(BatchNormalization())\n",
        "\n",
        "model.add(Convolution2D(32, (3,3), padding='same', use_bias=False))\n",
        "model.add(LeakyReLU(alpha = 0.1))\n",
        "model.add(BatchNormalization())\n",
        "model.add(MaxPool2D(pool_size=(2, 2)))\n",
        "\n",
        "model.add(Convolution2D(64, (3,3), padding='same', use_bias=False))\n",
        "model.add(LeakyReLU(alpha = 0.1))\n",
        "model.add(BatchNormalization())\n",
        "\n",
        "model.add(Convolution2D(64, (3,3), padding='same', use_bias=False))\n",
        "model.add(LeakyReLU(alpha = 0.1))\n",
        "model.add(BatchNormalization())\n",
        "model.add(MaxPool2D(pool_size=(2, 2)))\n",
        "\n",
        "model.add(Convolution2D(96, (3,3), padding='same', use_bias=False))\n",
        "model.add(LeakyReLU(alpha = 0.1))\n",
        "model.add(BatchNormalization())\n",
        "\n",
        "model.add(Convolution2D(96, (3,3), padding='same', use_bias=False))\n",
        "model.add(LeakyReLU(alpha = 0.1))\n",
        "model.add(BatchNormalization())\n",
        "model.add(MaxPool2D(pool_size=(2, 2)))\n",
        "\n",
        "model.add(Convolution2D(128, (3,3),padding='same', use_bias=False))\n",
        "# model.add(BatchNormalization())\n",
        "model.add(LeakyReLU(alpha = 0.1))\n",
        "model.add(BatchNormalization())\n",
        "\n",
        "model.add(Convolution2D(128, (3,3),padding='same', use_bias=False))\n",
        "model.add(LeakyReLU(alpha = 0.1))\n",
        "model.add(BatchNormalization())\n",
        "model.add(MaxPool2D(pool_size=(2, 2)))\n",
        "\n",
        "model.add(Convolution2D(256, (3,3),padding='same',use_bias=False))\n",
        "model.add(LeakyReLU(alpha = 0.1))\n",
        "model.add(BatchNormalization())\n",
        "\n",
        "model.add(Convolution2D(256, (3,3),padding='same',use_bias=False))\n",
        "model.add(LeakyReLU(alpha = 0.1))\n",
        "model.add(BatchNormalization())\n",
        "model.add(MaxPool2D(pool_size=(2, 2)))\n",
        "\n",
        "model.add(Convolution2D(512, (3,3), padding='same', use_bias=False))\n",
        "model.add(LeakyReLU(alpha = 0.1))\n",
        "model.add(BatchNormalization())\n",
        "\n",
        "model.add(Convolution2D(512, (3,3), padding='same', use_bias=False))\n",
        "model.add(LeakyReLU(alpha = 0.1))\n",
        "model.add(BatchNormalization())\n",
        "\n",
        "\n",
        "model.add(Flatten())\n",
        "model.add(Dense(512,activation='relu'))\n",
        "model.add(Dropout(0.1))\n",
        "model.add(Dense(30))\n",
        "model.summary()"
      ],
      "metadata": {
        "id": "eEXxuPPGu8yY",
        "colab": {
          "base_uri": "https://localhost:8080/"
        },
        "outputId": "eec008b2-46df-4b5e-f7d1-bf62f91c6afb"
      },
      "execution_count": null,
      "outputs": [
        {
          "output_type": "stream",
          "name": "stdout",
          "text": [
            "Model: \"sequential_2\"\n",
            "_________________________________________________________________\n",
            " Layer (type)                Output Shape              Param #   \n",
            "=================================================================\n",
            " conv2d (Conv2D)             (None, 96, 96, 32)        288       \n",
            "                                                                 \n",
            " leaky_re_lu (LeakyReLU)     (None, 96, 96, 32)        0         \n",
            "                                                                 \n",
            " batch_normalization (Batch  (None, 96, 96, 32)        128       \n",
            " Normalization)                                                  \n",
            "                                                                 \n",
            " conv2d_1 (Conv2D)           (None, 96, 96, 32)        9216      \n",
            "                                                                 \n",
            " leaky_re_lu_1 (LeakyReLU)   (None, 96, 96, 32)        0         \n",
            "                                                                 \n",
            " batch_normalization_1 (Bat  (None, 96, 96, 32)        128       \n",
            " chNormalization)                                                \n",
            "                                                                 \n",
            " max_pooling2d (MaxPooling2  (None, 48, 48, 32)        0         \n",
            " D)                                                              \n",
            "                                                                 \n",
            " conv2d_2 (Conv2D)           (None, 48, 48, 64)        18432     \n",
            "                                                                 \n",
            " leaky_re_lu_2 (LeakyReLU)   (None, 48, 48, 64)        0         \n",
            "                                                                 \n",
            " batch_normalization_2 (Bat  (None, 48, 48, 64)        256       \n",
            " chNormalization)                                                \n",
            "                                                                 \n",
            " conv2d_3 (Conv2D)           (None, 48, 48, 64)        36864     \n",
            "                                                                 \n",
            " leaky_re_lu_3 (LeakyReLU)   (None, 48, 48, 64)        0         \n",
            "                                                                 \n",
            " batch_normalization_3 (Bat  (None, 48, 48, 64)        256       \n",
            " chNormalization)                                                \n",
            "                                                                 \n",
            " max_pooling2d_1 (MaxPoolin  (None, 24, 24, 64)        0         \n",
            " g2D)                                                            \n",
            "                                                                 \n",
            " conv2d_4 (Conv2D)           (None, 24, 24, 96)        55296     \n",
            "                                                                 \n",
            " leaky_re_lu_4 (LeakyReLU)   (None, 24, 24, 96)        0         \n",
            "                                                                 \n",
            " batch_normalization_4 (Bat  (None, 24, 24, 96)        384       \n",
            " chNormalization)                                                \n",
            "                                                                 \n",
            " conv2d_5 (Conv2D)           (None, 24, 24, 96)        82944     \n",
            "                                                                 \n",
            " leaky_re_lu_5 (LeakyReLU)   (None, 24, 24, 96)        0         \n",
            "                                                                 \n",
            " batch_normalization_5 (Bat  (None, 24, 24, 96)        384       \n",
            " chNormalization)                                                \n",
            "                                                                 \n",
            " max_pooling2d_2 (MaxPoolin  (None, 12, 12, 96)        0         \n",
            " g2D)                                                            \n",
            "                                                                 \n",
            " conv2d_6 (Conv2D)           (None, 12, 12, 128)       110592    \n",
            "                                                                 \n",
            " leaky_re_lu_6 (LeakyReLU)   (None, 12, 12, 128)       0         \n",
            "                                                                 \n",
            " batch_normalization_6 (Bat  (None, 12, 12, 128)       512       \n",
            " chNormalization)                                                \n",
            "                                                                 \n",
            " conv2d_7 (Conv2D)           (None, 12, 12, 128)       147456    \n",
            "                                                                 \n",
            " leaky_re_lu_7 (LeakyReLU)   (None, 12, 12, 128)       0         \n",
            "                                                                 \n",
            " batch_normalization_7 (Bat  (None, 12, 12, 128)       512       \n",
            " chNormalization)                                                \n",
            "                                                                 \n",
            " max_pooling2d_3 (MaxPoolin  (None, 6, 6, 128)         0         \n",
            " g2D)                                                            \n",
            "                                                                 \n",
            " conv2d_8 (Conv2D)           (None, 6, 6, 256)         294912    \n",
            "                                                                 \n",
            " leaky_re_lu_8 (LeakyReLU)   (None, 6, 6, 256)         0         \n",
            "                                                                 \n",
            " batch_normalization_8 (Bat  (None, 6, 6, 256)         1024      \n",
            " chNormalization)                                                \n",
            "                                                                 \n",
            " conv2d_9 (Conv2D)           (None, 6, 6, 256)         589824    \n",
            "                                                                 \n",
            " leaky_re_lu_9 (LeakyReLU)   (None, 6, 6, 256)         0         \n",
            "                                                                 \n",
            " batch_normalization_9 (Bat  (None, 6, 6, 256)         1024      \n",
            " chNormalization)                                                \n",
            "                                                                 \n",
            " max_pooling2d_4 (MaxPoolin  (None, 3, 3, 256)         0         \n",
            " g2D)                                                            \n",
            "                                                                 \n",
            " conv2d_10 (Conv2D)          (None, 3, 3, 512)         1179648   \n",
            "                                                                 \n",
            " leaky_re_lu_10 (LeakyReLU)  (None, 3, 3, 512)         0         \n",
            "                                                                 \n",
            " batch_normalization_10 (Ba  (None, 3, 3, 512)         2048      \n",
            " tchNormalization)                                               \n",
            "                                                                 \n",
            " conv2d_11 (Conv2D)          (None, 3, 3, 512)         2359296   \n",
            "                                                                 \n",
            " leaky_re_lu_11 (LeakyReLU)  (None, 3, 3, 512)         0         \n",
            "                                                                 \n",
            " batch_normalization_11 (Ba  (None, 3, 3, 512)         2048      \n",
            " tchNormalization)                                               \n",
            "                                                                 \n",
            " flatten_1 (Flatten)         (None, 4608)              0         \n",
            "                                                                 \n",
            " dense_3 (Dense)             (None, 512)               2359808   \n",
            "                                                                 \n",
            " dropout_1 (Dropout)         (None, 512)               0         \n",
            "                                                                 \n",
            " dense_4 (Dense)             (None, 30)                15390     \n",
            "                                                                 \n",
            "=================================================================\n",
            "Total params: 7268670 (27.73 MB)\n",
            "Trainable params: 7264318 (27.71 MB)\n",
            "Non-trainable params: 4352 (17.00 KB)\n",
            "_________________________________________________________________\n"
          ]
        }
      ]
    },
    {
      "cell_type": "code",
      "source": [
        "model.compile(optimizer='adam',\n",
        "              loss='mean_squared_error',\n",
        "              metrics=['mae'])"
      ],
      "metadata": {
        "id": "wt_quZ8WvPeq"
      },
      "execution_count": null,
      "outputs": []
    },
    {
      "cell_type": "code",
      "source": [
        "history = model.fit(X_train, Y_train, epochs = 50, batch_size = 256, validation_split = 0.2)"
      ],
      "metadata": {
        "colab": {
          "base_uri": "https://localhost:8080/"
        },
        "id": "xYiGEJPNwCfD",
        "outputId": "0fd3a8a1-0937-44bd-a5bd-f9598ecf6d3c"
      },
      "execution_count": null,
      "outputs": [
        {
          "output_type": "stream",
          "name": "stdout",
          "text": [
            "Epoch 1/50\n",
            "23/23 [==============================] - 330s 14s/step - loss: 358.0965 - mae: 12.2214 - val_loss: 779.1642 - val_mae: 25.8168\n",
            "Epoch 2/50\n",
            "23/23 [==============================] - 321s 14s/step - loss: 33.5506 - mae: 4.5047 - val_loss: 225.5951 - val_mae: 13.6339\n",
            "Epoch 3/50\n",
            "23/23 [==============================] - 331s 14s/step - loss: 26.6939 - mae: 3.9937 - val_loss: 58.4694 - val_mae: 6.8343\n",
            "Epoch 4/50\n",
            "23/23 [==============================] - 325s 14s/step - loss: 23.8702 - mae: 3.7645 - val_loss: 95.0550 - val_mae: 8.9049\n",
            "Epoch 5/50\n",
            "23/23 [==============================] - 327s 14s/step - loss: 22.3458 - mae: 3.6285 - val_loss: 52.0395 - val_mae: 6.3788\n",
            "Epoch 6/50\n",
            "23/23 [==============================] - 326s 14s/step - loss: 20.3482 - mae: 3.4388 - val_loss: 39.8394 - val_mae: 5.5090\n",
            "Epoch 7/50\n",
            "23/23 [==============================] - 321s 14s/step - loss: 19.1268 - mae: 3.3449 - val_loss: 56.6835 - val_mae: 6.6855\n",
            "Epoch 8/50\n",
            "23/23 [==============================] - 323s 14s/step - loss: 17.7167 - mae: 3.2010 - val_loss: 25.7073 - val_mae: 4.3062\n",
            "Epoch 9/50\n",
            "23/23 [==============================] - 324s 14s/step - loss: 16.6180 - mae: 3.0966 - val_loss: 15.9469 - val_mae: 3.2159\n",
            "Epoch 10/50\n",
            "23/23 [==============================] - 322s 14s/step - loss: 15.8007 - mae: 3.0154 - val_loss: 26.7886 - val_mae: 4.3678\n",
            "Epoch 11/50\n",
            "23/23 [==============================] - 322s 14s/step - loss: 14.6254 - mae: 2.8950 - val_loss: 24.9362 - val_mae: 4.2346\n",
            "Epoch 12/50\n",
            "23/23 [==============================] - 322s 14s/step - loss: 14.0222 - mae: 2.8265 - val_loss: 18.4008 - val_mae: 3.5928\n",
            "Epoch 13/50\n",
            "23/23 [==============================] - 325s 14s/step - loss: 13.4948 - mae: 2.7743 - val_loss: 4.6705 - val_mae: 1.3375\n",
            "Epoch 14/50\n",
            "23/23 [==============================] - 322s 14s/step - loss: 14.2504 - mae: 2.8585 - val_loss: 11.5754 - val_mae: 2.7644\n",
            "Epoch 15/50\n",
            "23/23 [==============================] - 324s 14s/step - loss: 12.8650 - mae: 2.7029 - val_loss: 3.7825 - val_mae: 1.1260\n",
            "Epoch 16/50\n",
            "23/23 [==============================] - 325s 14s/step - loss: 12.5780 - mae: 2.6716 - val_loss: 10.5080 - val_mae: 2.3960\n",
            "Epoch 17/50\n",
            "23/23 [==============================] - 325s 14s/step - loss: 11.7109 - mae: 2.5754 - val_loss: 6.9197 - val_mae: 1.8307\n",
            "Epoch 18/50\n",
            "23/23 [==============================] - 322s 14s/step - loss: 11.1869 - mae: 2.5242 - val_loss: 4.9049 - val_mae: 1.5755\n",
            "Epoch 19/50\n",
            "23/23 [==============================] - 328s 14s/step - loss: 11.5803 - mae: 2.5756 - val_loss: 7.1578 - val_mae: 2.0530\n",
            "Epoch 20/50\n",
            "23/23 [==============================] - 323s 14s/step - loss: 11.9555 - mae: 2.6255 - val_loss: 5.3245 - val_mae: 1.5513\n",
            "Epoch 21/50\n",
            "23/23 [==============================] - 326s 14s/step - loss: 10.3694 - mae: 2.4266 - val_loss: 8.7013 - val_mae: 2.3204\n",
            "Epoch 22/50\n",
            "23/23 [==============================] - 324s 14s/step - loss: 10.7827 - mae: 2.4900 - val_loss: 14.2586 - val_mae: 2.9775\n",
            "Epoch 23/50\n",
            "23/23 [==============================] - 324s 14s/step - loss: 12.4512 - mae: 2.6840 - val_loss: 5.2922 - val_mae: 1.7420\n",
            "Epoch 24/50\n",
            "23/23 [==============================] - 323s 14s/step - loss: 10.3526 - mae: 2.4348 - val_loss: 5.3672 - val_mae: 1.7312\n",
            "Epoch 25/50\n",
            "23/23 [==============================] - 323s 14s/step - loss: 9.0969 - mae: 2.2747 - val_loss: 3.5994 - val_mae: 1.0627\n",
            "Epoch 26/50\n",
            "23/23 [==============================] - 323s 14s/step - loss: 8.8606 - mae: 2.2523 - val_loss: 21.4569 - val_mae: 3.9134\n",
            "Epoch 27/50\n",
            "23/23 [==============================] - 324s 14s/step - loss: 12.6438 - mae: 2.7081 - val_loss: 5.9498 - val_mae: 1.8087\n",
            "Epoch 28/50\n",
            "23/23 [==============================] - 322s 14s/step - loss: 10.0972 - mae: 2.4037 - val_loss: 9.8280 - val_mae: 2.4946\n",
            "Epoch 29/50\n",
            "23/23 [==============================] - 323s 14s/step - loss: 8.7206 - mae: 2.2342 - val_loss: 14.8509 - val_mae: 3.2680\n",
            "Epoch 30/50\n",
            "23/23 [==============================] - 332s 14s/step - loss: 10.9306 - mae: 2.5343 - val_loss: 7.4880 - val_mae: 1.9903\n",
            "Epoch 31/50\n",
            "23/23 [==============================] - 323s 14s/step - loss: 8.5253 - mae: 2.2143 - val_loss: 4.8699 - val_mae: 1.6782\n",
            "Epoch 32/50\n",
            "23/23 [==============================] - 329s 14s/step - loss: 7.7580 - mae: 2.1107 - val_loss: 9.1133 - val_mae: 2.5151\n",
            "Epoch 33/50\n",
            "23/23 [==============================] - 332s 14s/step - loss: 7.9162 - mae: 2.1372 - val_loss: 3.7181 - val_mae: 1.3765\n",
            "Epoch 34/50\n",
            "23/23 [==============================] - 325s 14s/step - loss: 8.4759 - mae: 2.2202 - val_loss: 4.0779 - val_mae: 1.2910\n",
            "Epoch 35/50\n",
            "23/23 [==============================] - 324s 14s/step - loss: 8.4945 - mae: 2.1734 - val_loss: 5.0862 - val_mae: 1.4942\n",
            "Epoch 36/50\n",
            "23/23 [==============================] - 325s 14s/step - loss: 7.8838 - mae: 2.1020 - val_loss: 8.9648 - val_mae: 2.4443\n",
            "Epoch 37/50\n",
            "23/23 [==============================] - 325s 14s/step - loss: 8.6317 - mae: 2.2331 - val_loss: 3.6006 - val_mae: 1.2484\n",
            "Epoch 38/50\n",
            "23/23 [==============================] - 328s 14s/step - loss: 7.0596 - mae: 2.0122 - val_loss: 3.1045 - val_mae: 1.0415\n",
            "Epoch 39/50\n",
            "23/23 [==============================] - 325s 14s/step - loss: 6.9517 - mae: 2.0033 - val_loss: 4.3880 - val_mae: 1.4329\n",
            "Epoch 40/50\n",
            "23/23 [==============================] - 323s 14s/step - loss: 6.9570 - mae: 2.0040 - val_loss: 10.4956 - val_mae: 2.5604\n",
            "Epoch 41/50\n",
            "23/23 [==============================] - 324s 14s/step - loss: 8.5487 - mae: 2.2290 - val_loss: 3.7203 - val_mae: 1.0733\n",
            "Epoch 42/50\n",
            "23/23 [==============================] - 323s 14s/step - loss: 7.6315 - mae: 2.0989 - val_loss: 6.4291 - val_mae: 1.8659\n",
            "Epoch 43/50\n",
            "23/23 [==============================] - 322s 14s/step - loss: 7.1197 - mae: 2.0300 - val_loss: 2.7810 - val_mae: 1.0780\n",
            "Epoch 44/50\n",
            "23/23 [==============================] - 324s 14s/step - loss: 6.3702 - mae: 1.9191 - val_loss: 7.8129 - val_mae: 2.1036\n",
            "Epoch 45/50\n",
            "23/23 [==============================] - 324s 14s/step - loss: 7.5581 - mae: 2.0862 - val_loss: 9.1019 - val_mae: 2.2743\n",
            "Epoch 46/50\n",
            "23/23 [==============================] - 329s 14s/step - loss: 7.7641 - mae: 2.1142 - val_loss: 3.9839 - val_mae: 1.2662\n",
            "Epoch 47/50\n",
            "23/23 [==============================] - 324s 14s/step - loss: 7.0489 - mae: 2.0177 - val_loss: 4.7760 - val_mae: 1.5906\n",
            "Epoch 48/50\n",
            "23/23 [==============================] - 325s 14s/step - loss: 6.2670 - mae: 1.8967 - val_loss: 10.0328 - val_mae: 2.5748\n",
            "Epoch 49/50\n",
            "23/23 [==============================] - 322s 14s/step - loss: 7.7402 - mae: 2.1339 - val_loss: 3.9467 - val_mae: 1.4479\n",
            "Epoch 50/50\n",
            "23/23 [==============================] - 324s 14s/step - loss: 7.5596 - mae: 2.0971 - val_loss: 2.7843 - val_mae: 1.0091\n"
          ]
        }
      ]
    },
    {
      "cell_type": "code",
      "source": [
        "model.save_weights('weights.h5')"
      ],
      "metadata": {
        "id": "OEAf09zNvp55"
      },
      "execution_count": null,
      "outputs": []
    },
    {
      "cell_type": "code",
      "source": [
        "plt.figure(figsize=(12,6))\n",
        "plt.subplot(1,2,1)\n",
        "plt.title('Train Dataset')\n",
        "plt.plot(history.history['loss'],label='train_loss')\n",
        "plt.plot(history.history['val_loss'],label='validatoin_loss')\n",
        "plt.legend()\n",
        "plt.subplot(1,2,2)\n",
        "plt.title('Validation Dataset')\n",
        "plt.plot(history.history['mae'],label='train_mae')\n",
        "plt.plot(history.history['val_mae'],label='validation_mae')\n",
        "plt.legend()\n",
        "plt.show()"
      ],
      "metadata": {
        "colab": {
          "base_uri": "https://localhost:8080/",
          "height": 477
        },
        "id": "N5_FjGKTv54-",
        "outputId": "2440e810-8f27-497e-ccfe-db8b1ceaeb4f"
      },
      "execution_count": null,
      "outputs": [
        {
          "output_type": "display_data",
          "data": {
            "text/plain": [
              "<Figure size 1200x600 with 2 Axes>"
            ],
            "image/png": "[encoded data removed]"
          },
          "metadata": {}
        }
      ]
    },
    {
      "cell_type": "code",
      "source": [
        "print(history.history.keys())"
      ],
      "metadata": {
        "colab": {
          "base_uri": "https://localhost:8080/"
        },
        "id": "uBhOx9TYwVGn",
        "outputId": "a003bc77-1bfd-44ca-bcb8-9663544947af"
      },
      "execution_count": null,
      "outputs": [
        {
          "output_type": "stream",
          "name": "stdout",
          "text": [
            "dict_keys(['loss', 'mae', 'val_loss', 'val_mae'])\n"
          ]
        }
      ]
    },
    {
      "cell_type": "code",
      "source": [
        "#preparing test data\n",
        "timag = []\n",
        "for i in range(0,1783):\n",
        "    timg = test['Image'][i].split(' ')\n",
        "    timg = ['0' if x == '' else x for x in timg]\n",
        "\n",
        "    timag.append(timg)"
      ],
      "metadata": {
        "id": "puSeDegSw8vG"
      },
      "execution_count": null,
      "outputs": []
    },
    {
      "cell_type": "code",
      "source": [
        "timage_list = np.array(timag,dtype = 'float')\n",
        "X_test = timage_list.reshape(-1,96,96,1)"
      ],
      "metadata": {
        "id": "AyOES_E0xLgd"
      },
      "execution_count": null,
      "outputs": []
    },
    {
      "cell_type": "code",
      "source": [
        "plt.imshow(X_test[0].reshape(96,96),cmap = 'gray')\n",
        "plt.show()"
      ],
      "metadata": {
        "colab": {
          "base_uri": "https://localhost:8080/",
          "height": 433
        },
        "id": "WWYdQmhhxNie",
        "outputId": "2aa02fac-f569-4f64-fba4-038b646c8a7f"
      },
      "execution_count": null,
      "outputs": [
        {
          "output_type": "display_data",
          "data": {
            "text/plain": [
              "<Figure size 640x480 with 1 Axes>"
            ],
            "image/png": "[encoded data removed]"
          },
          "metadata": {}
        }
      ]
    },
    {
      "cell_type": "code",
      "source": [
        "pred = model.predict(X_test)"
      ],
      "metadata": {
        "colab": {
          "base_uri": "https://localhost:8080/"
        },
        "id": "6Mx7uCcfxPSv",
        "outputId": "022d788d-b5a0-48bc-cf82-f0915e37e82d"
      },
      "execution_count": null,
      "outputs": [
        {
          "output_type": "stream",
          "name": "stdout",
          "text": [
            "56/56 [==============================] - 24s 412ms/step\n"
          ]
        }
      ]
    },
    {
      "cell_type": "code",
      "source": [
        "print(pred)"
      ],
      "metadata": {
        "colab": {
          "base_uri": "https://localhost:8080/"
        },
        "id": "UUpp_Z0_x6hN",
        "outputId": "c7f6fcd4-fef1-4c4c-d9b4-1b5ed082548d"
      },
      "execution_count": null,
      "outputs": [
        {
          "output_type": "stream",
          "name": "stdout",
          "text": [
            "[[68.37966  36.727493 28.876215 ... 71.093346 49.008236 85.583015]\n",
            " [69.21458  37.40975  28.859762 ... 75.82994  50.095016 86.564354]\n",
            " [67.93452  37.48108  31.100718 ... 74.47915  50.05215  85.862785]\n",
            " ...\n",
            " [67.36162  40.518356 31.09103  ... 76.04476  45.827366 78.288994]\n",
            " [62.319675 36.944386 29.776083 ... 75.8124   45.17279  72.62076 ]\n",
            " [67.816246 39.45927  30.935535 ... 76.79983  47.348545 79.10594 ]]\n"
          ]
        }
      ]
    },
    {
      "cell_type": "code",
      "source": [
        "def plot_features(image,feature_names,features_reshaped):\n",
        "    \"\"\"\n",
        "    Function that marks all the facial keypoints on the image with an explanatory\n",
        "    legend.\n",
        "    \"\"\"\n",
        "    #image=cv2.flip(image,1)\n",
        "    NUM_COLORS = 15\n",
        "    cm = plt.get_cmap('gist_rainbow')\n",
        "    fig = plt.figure()\n",
        "    ax = fig.add_subplot(111)\n",
        "    ax.set_prop_cycle(color=[cm(1.*i/NUM_COLORS) for i in range(NUM_COLORS)])\n",
        "\n",
        "    ax.imshow(image, cmap='gray')\n",
        "    for n, name in enumerate(feature_names):\n",
        "        ax.scatter(features_reshaped[0,n,0],features_reshaped[0,n,1],marker='x',label=name)\n",
        "    ax.legend(bbox_to_anchor=(1,1))\n",
        "    plt.show()"
      ],
      "metadata": {
        "id": "OthSGYqvyMxS"
      },
      "execution_count": null,
      "outputs": []
    },
    {
      "cell_type": "code",
      "source": [
        "features=train.columns[:-1]\n",
        "feature_names=[i.replace('_x','') for n,i in enumerate(features) if n%2==0 ]\n"
      ],
      "metadata": {
        "id": "db1r7H-Gydet"
      },
      "execution_count": null,
      "outputs": []
    },
    {
      "cell_type": "code",
      "source": [
        "print(feature_names)"
      ],
      "metadata": {
        "colab": {
          "base_uri": "https://localhost:8080/"
        },
        "id": "GK2ZImGPzDTt",
        "outputId": "f95d8bbf-c359-4d3f-d271-edb0d055404f"
      },
      "execution_count": null,
      "outputs": [
        {
          "output_type": "stream",
          "name": "stdout",
          "text": [
            "['left_eye_center', 'right_eye_center', 'left_eye_inner_corner', 'left_eye_outer_corner', 'right_eye_inner_corner', 'right_eye_outer_corner', 'left_eyebrow_inner_end', 'left_eyebrow_outer_end', 'right_eyebrow_inner_end', 'right_eyebrow_outer_end', 'nose_tip', 'mouth_left_corner', 'mouth_right_corner', 'mouth_center_top_lip', 'mouth_center_bottom_lip']\n"
          ]
        }
      ]
    },
    {
      "cell_type": "markdown",
      "source": [],
      "metadata": {
        "id": "h-ho_rrXy2dh"
      }
    },
    {
      "cell_type": "code",
      "source": [
        "x_test_reshaped=pred.reshape(len(pred),15,2)\n",
        "plot_features(X_test[np.random.choice(len(X_test))],feature_names,x_test_reshaped)"
      ],
      "metadata": {
        "colab": {
          "base_uri": "https://localhost:8080/",
          "height": 197
        },
        "id": "sU2SRx_7xjOu",
        "outputId": "6656917e-e999-406a-a545-7095b8c82171"
      },
      "execution_count": null,
      "outputs": [
        {
          "output_type": "error",
          "ename": "NameError",
          "evalue": "ignored",
          "traceback": [
            "\u001b[0;31m---------------------------------------------------------------------------\u001b[0m",
            "\u001b[0;31mNameError\u001b[0m                                 Traceback (most recent call last)",
            "\u001b[0;32m<ipython-input-1-33e1a323964d>\u001b[0m in \u001b[0;36m<cell line: 1>\u001b[0;34m()\u001b[0m\n\u001b[0;32m----> 1\u001b[0;31m \u001b[0mx_test_reshaped\u001b[0m\u001b[0;34m=\u001b[0m\u001b[0mpred\u001b[0m\u001b[0;34m.\u001b[0m\u001b[0mreshape\u001b[0m\u001b[0;34m(\u001b[0m\u001b[0mlen\u001b[0m\u001b[0;34m(\u001b[0m\u001b[0mpred\u001b[0m\u001b[0;34m)\u001b[0m\u001b[0;34m,\u001b[0m\u001b[0;36m15\u001b[0m\u001b[0;34m,\u001b[0m\u001b[0;36m2\u001b[0m\u001b[0;34m)\u001b[0m\u001b[0;34m\u001b[0m\u001b[0;34m\u001b[0m\u001b[0m\n\u001b[0m\u001b[1;32m      2\u001b[0m \u001b[0mplot_features\u001b[0m\u001b[0;34m(\u001b[0m\u001b[0mX_test\u001b[0m\u001b[0;34m[\u001b[0m\u001b[0mnp\u001b[0m\u001b[0;34m.\u001b[0m\u001b[0mrandom\u001b[0m\u001b[0;34m.\u001b[0m\u001b[0mchoice\u001b[0m\u001b[0;34m(\u001b[0m\u001b[0mlen\u001b[0m\u001b[0;34m(\u001b[0m\u001b[0mX_test\u001b[0m\u001b[0;34m)\u001b[0m\u001b[0;34m)\u001b[0m\u001b[0;34m]\u001b[0m\u001b[0;34m,\u001b[0m\u001b[0mfeature_names\u001b[0m\u001b[0;34m,\u001b[0m\u001b[0mx_test_reshaped\u001b[0m\u001b[0;34m)\u001b[0m\u001b[0;34m\u001b[0m\u001b[0;34m\u001b[0m\u001b[0m\n",
            "\u001b[0;31mNameError\u001b[0m: name 'pred' is not defined"
          ]
        }
      ]
    },
    {
      "cell_type": "code",
      "source": [],
      "metadata": {
        "id": "QwXchKR8xfx_"
      },
      "execution_count": null,
      "outputs": []
    }
  ]
}